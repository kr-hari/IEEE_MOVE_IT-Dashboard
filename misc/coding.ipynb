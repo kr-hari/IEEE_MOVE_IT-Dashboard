{
 "cells": [
  {
   "cell_type": "code",
   "execution_count": 7,
   "metadata": {},
   "outputs": [
    {
     "name": "stdout",
     "output_type": "stream",
     "text": [
      "-1 -1 3 3 2\n"
     ]
    }
   ],
   "source": [
    "def find_min_common_integer(n, data):\n",
    "    result_array = []\n",
    "\n",
    "    for k in range(1, n + 1):\n",
    "        common_integer = find_common_integer(data, k)\n",
    "        result_array.append(common_integer)\n",
    "\n",
    "    return result_array\n",
    "\n",
    "def find_common_integer(data, k):\n",
    "    if k == 1:\n",
    "        return -1  # No common integer for subarrays of length 1.\n",
    "\n",
    "    result_set = set(data[:k])\n",
    "\n",
    "    for i in range(1, n - k + 1):\n",
    "        subarray = set(data[i:i + k])\n",
    "        result_set = result_set.intersection(subarray)\n",
    "\n",
    "    if result_set:\n",
    "        return min(result_set)\n",
    "    else:\n",
    "        return -1\n",
    "\n",
    "# Example usage:\n",
    "n = 5\n",
    "data = [4,3,3,4,2]\n",
    "result = find_min_common_integer(n, data)\n",
    "print(\" \".join(map(str, result)))\n"
   ]
  },
  {
   "cell_type": "code",
   "execution_count": 51,
   "metadata": {},
   "outputs": [
    {
     "name": "stdout",
     "output_type": "stream",
     "text": [
      "2\n"
     ]
    }
   ],
   "source": [
    "def channel_rating(n, views):\n",
    "    MOD = 10**9 + 7\n",
    "    rating = 0\n",
    "\n",
    "    for i in range(n - 2):\n",
    "        xor_inner = 0  # Initialize xor_inner here\n",
    "        for j in range(i + 2, n):\n",
    "            xor_first_last = views[i] ^ views[j]\n",
    "            xor_inner ^= views[j - 1]  # Incrementally calculate xor_inner\n",
    "\n",
    "            if xor_first_last == xor_inner:\n",
    "                rating = (rating + 1) % MOD\n",
    "\n",
    "    return rating\n",
    "\n",
    "# Example usage:\n",
    "n = 4\n",
    "views = [0, 3, 6, 5]\n",
    "result = channel_rating(n, views)\n",
    "print(result)\n",
    "\n",
    "# # Example usage:\n",
    "# n = 4\n",
    "# views = [0, 3, 6, 5]\n",
    "# result = channel_rating(n, views)\n",
    "# print(result)\n",
    "\n"
   ]
  },
  {
   "cell_type": "code",
   "execution_count": null,
   "metadata": {},
   "outputs": [],
   "source": []
  }
 ],
 "metadata": {
  "kernelspec": {
   "display_name": "move_it",
   "language": "python",
   "name": "python3"
  },
  "language_info": {
   "codemirror_mode": {
    "name": "ipython",
    "version": 3
   },
   "file_extension": ".py",
   "mimetype": "text/x-python",
   "name": "python",
   "nbconvert_exporter": "python",
   "pygments_lexer": "ipython3",
   "version": "3.10.0"
  }
 },
 "nbformat": 4,
 "nbformat_minor": 2
}
